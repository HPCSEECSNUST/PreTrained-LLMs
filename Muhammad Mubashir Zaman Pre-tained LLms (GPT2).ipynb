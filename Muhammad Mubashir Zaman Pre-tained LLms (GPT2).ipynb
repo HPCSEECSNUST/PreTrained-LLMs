{
  "nbformat": 4,
  "nbformat_minor": 0,
  "metadata": {
    "colab": {
      "provenance": []
    },
    "kernelspec": {
      "name": "python3",
      "display_name": "Python 3"
    },
    "language_info": {
      "name": "python"
    }
  },
  "cells": [
    {
      "cell_type": "code",
      "execution_count": 1,
      "metadata": {
        "colab": {
          "base_uri": "https://localhost:8080/"
        },
        "id": "gL-v6MooLtBz",
        "outputId": "265abf53-b7af-4797-b1bd-e439173bdcdb"
      },
      "outputs": [
        {
          "output_type": "stream",
          "name": "stdout",
          "text": [
            "Collecting pytorch\n",
            "  Downloading pytorch-1.0.2.tar.gz (689 bytes)\n",
            "  Preparing metadata (setup.py) ... \u001b[?25l\u001b[?25hdone\n",
            "Building wheels for collected packages: pytorch\n",
            "  \u001b[1;31merror\u001b[0m: \u001b[1msubprocess-exited-with-error\u001b[0m\n",
            "  \n",
            "  \u001b[31m×\u001b[0m \u001b[32mpython setup.py bdist_wheel\u001b[0m did not run successfully.\n",
            "  \u001b[31m│\u001b[0m exit code: \u001b[1;36m1\u001b[0m\n",
            "  \u001b[31m╰─>\u001b[0m See above for output.\n",
            "  \n",
            "  \u001b[1;35mnote\u001b[0m: This error originates from a subprocess, and is likely not a problem with pip.\n",
            "  Building wheel for pytorch (setup.py) ... \u001b[?25lerror\n",
            "\u001b[31m  ERROR: Failed building wheel for pytorch\u001b[0m\u001b[31m\n",
            "\u001b[0m\u001b[?25h  Running setup.py clean for pytorch\n",
            "Failed to build pytorch\n",
            "\u001b[31mERROR: Could not build wheels for pytorch, which is required to install pyproject.toml-based projects\u001b[0m\u001b[31m\n",
            "\u001b[0m"
          ]
        }
      ],
      "source": [
        "pip install pytorch"
      ]
    },
    {
      "cell_type": "code",
      "source": [
        "from transformers import pipeline, set_seed\n",
        "generator = pipeline('text-generation', model='gpt2')\n",
        "set_seed(42)\n",
        "generator(\"Features of birds\", max_length=300, num_return_sequences=1)"
      ],
      "metadata": {
        "colab": {
          "base_uri": "https://localhost:8080/"
        },
        "id": "kSnHqz4PL5yB",
        "outputId": "d72f4b12-2ffb-439d-c744-144583831d28"
      },
      "execution_count": 2,
      "outputs": [
        {
          "output_type": "stream",
          "name": "stderr",
          "text": [
            "Truncation was not explicitly activated but `max_length` is provided a specific value, please use `truncation=True` to explicitly truncate examples to max length. Defaulting to 'longest_first' truncation strategy. If you encode pairs of sequences (GLUE-style) with the tokenizer you can select this strategy more precisely by providing a specific strategy to `truncation`.\n",
            "Setting `pad_token_id` to `eos_token_id`:50256 for open-end generation.\n"
          ]
        },
        {
          "output_type": "execute_result",
          "data": {
            "text/plain": [
              "[{'generated_text': \"Features of birds:\\n\\n-Birding can help to change the bird's appearance as compared to other animals. The smaller the bird, the easier it can move.\\n\\nYou are almost always able to look up your bird in a specific place while doing the same with that bird. In this way, your bird will become visible to others as well as the bird at larger heights with your eyes closed.\\n\\nBirding can help to change the bird's appearance as compared to other animals. The smaller the bird, the easier it can move. Birding can help to change the bird's appearance as compared to other animals. Your bird will become visible to others as well as the bird at larger heights with your eyes closed. Your bird can be spotted by other wildlife such as dogs or foxes. You should not have to keep your bird under the cover of a canopy, because it will simply move in close.\\n\\nPlease see the photos below for some different birds.\\n\\nHow Many Birds Can a Bird Play in the World?\\n\\nThis method of birding can be quite tricky to make but if you find that you are able to easily perform the first step within your garden your bird will be able to help you get to the next milestone.\\n\\nIn order to do this, you must have a bird in your garden at least 12 feet above ground level.\\n\\nOnce you have this bird you have to get started the next steps below.\\n\\nHow to Start\"}]"
            ]
          },
          "metadata": {},
          "execution_count": 2
        }
      ]
    }
  ]
}